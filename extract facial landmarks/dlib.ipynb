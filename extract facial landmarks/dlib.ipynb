{
 "cells": [
  {
   "cell_type": "code",
   "execution_count": 1,
   "metadata": {},
   "outputs": [],
   "source": [
    "%matplotlib inline\n",
    "import dlib\n",
    "import numpy as np\n",
    "import cv2\n",
    "from matplotlib import pyplot as plt\n",
    "\n",
    "PREDICTOR_PATH = \"./shape_predictor_68_face_landmarks.dat\"\n"
   ]
  },
  {
   "cell_type": "code",
   "execution_count": null,
   "metadata": {},
   "outputs": [
    {
     "name": "stdout",
     "output_type": "stream",
     "text": [
      "rectangles[[(233, 357) (788, 911)]]\n"
     ]
    }
   ],
   "source": [
    "import cv2\n",
    "import dlib\n",
    "\n",
    "detector = dlib.get_frontal_face_detector()\n",
    "landmark_predictor = dlib.shape_predictor(\"./shape_predictor_68_face_landmarks.dat\")\n",
    "img = cv2.imread(\"./1_00199.jpg\")\n",
    "faces = detector(img,1)\n",
    "print(faces) \n",
    "\n",
    "# 얼굴 저장 눈썹 저장 눈 저장 코저장 입저장\n",
    "x = []\n",
    "y = []\n",
    "\n",
    "Right_Eyebrow_bottom = 0\n",
    "Left_Eyebrow_bottom = 0\n",
    "\n",
    "Right_Eyebrow_right = 0\n",
    "Left_Eyebrow_left = 0\n",
    "\n",
    "if (len(faces) > 0): # 얼굴이 있다면 \n",
    "    for k,d in enumerate(faces):\n",
    "        cv2.rectangle(img,(d.left(),d.top()),(d.right(),d.bottom()),(255,255,255))\n",
    "        shape = landmark_predictor(img,d)\n",
    "        \n",
    "        for i in range(0,68):\n",
    "            if i > 16:\n",
    "                x.append(shape.part(i).x)\n",
    "                y.append(shape.part(i).y)\n",
    "                \n",
    "            cv2.circle(img, (shape.part(i).x, shape.part(i).y),2,(0,255,0), -1, 8)\n",
    "            cv2.putText(img,str(i),(shape.part(i).x,shape.part(i).y),cv2.FONT_HERSHEY_SIMPLEX,0.5,(255,2555,255))\n",
    "            \n",
    "            \n",
    "            if i == 21 or i == 26 or i == 35 or i == 41 or i == 47 or i == 67:\n",
    "                if i == 21:\n",
    "                    Right_Eyebrow_bottom = max(y)\n",
    "                    Right_Eyebrow_right = max(x)\n",
    "                elif i == 26:\n",
    "                    Left_Eyebrow_bottom = max(y)\n",
    "                    Left_Eyebrow_left = min(x)\n",
    "\n",
    "                if i == 41:\n",
    "                    Right_Eyebrow_bottom = int((min(y) - Right_Eyebrow_bottom) / 2)\n",
    "                    Right_Eyebrow_right = int((Right_Eyebrow_right - max(x)) / 2)\n",
    "                    cv2.rectangle(img, ((min(x) - Right_Eyebrow_right), (min(y) - Right_Eyebrow_bottom)), ((max(x) + Right_Eyebrow_right), (max(y) + Right_Eyebrow_bottom)), (255,255,255))\n",
    "                elif i == 47:\n",
    "                    Left_Eyebrow_bottom = int((min(y) - Left_Eyebrow_bottom) / 2)\n",
    "                    Left_Eyebrow_left = int((min(x) - Left_Eyebrow_left) / 2)\n",
    "                    cv2.rectangle(img, ((min(x) - Left_Eyebrow_left), (min(y) - Left_Eyebrow_bottom)), ((max(x) + Left_Eyebrow_left), (max(y) + Left_Eyebrow_bottom)), (255,255,255))\n",
    "                else:\n",
    "                    cv2.rectangle(img, (min(x), min(y)), (max(x), max(y)), (255,255,255))\n",
    "                del x[:]\n",
    "                del y[:]\n",
    "            \n",
    "cv2.imshow('Frame',img)\n",
    "cv2.waitKey(0)"
   ]
  },
  {
   "cell_type": "code",
   "execution_count": null,
   "metadata": {},
   "outputs": [],
   "source": [
    "'''\n",
    "Points 0 to 16 is the Jawline\n",
    "Points 17 to 21 is the Right Eyebrow\n",
    "Points 22 to 26 is the Left Eyebrow\n",
    "Points 27 to 35 is the Nose\n",
    "Points 36 to 41 is the Right Eye\n",
    "Points 42 to 47 is the Left Eye\n",
    "Points 48 to 60 is Outline of the Mouth\n",
    "Points 61 to 67 is the Inner line of the Mouth\n",
    "'''\n",
    "\n"
   ]
  },
  {
   "cell_type": "code",
   "execution_count": null,
   "metadata": {},
   "outputs": [],
   "source": []
  }
 ],
 "metadata": {
  "kernelspec": {
   "display_name": "Python 3",
   "language": "python",
   "name": "python3"
  },
  "language_info": {
   "codemirror_mode": {
    "name": "ipython",
    "version": 3
   },
   "file_extension": ".py",
   "mimetype": "text/x-python",
   "name": "python",
   "nbconvert_exporter": "python",
   "pygments_lexer": "ipython3",
   "version": "3.5.2"
  }
 },
 "nbformat": 4,
 "nbformat_minor": 2
}
